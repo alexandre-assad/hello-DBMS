{
 "cells": [
  {
   "cell_type": "code",
   "execution_count": 36,
   "metadata": {},
   "outputs": [],
   "source": [
    "import pandas as pd\n",
    "from os import path\n",
    "import matplotlib.pyplot as plt\n",
    "import numpy as np"
   ]
  },
  {
   "cell_type": "code",
   "execution_count": 37,
   "metadata": {},
   "outputs": [
    {
     "data": {
      "text/html": [
       "<div>\n",
       "<style scoped>\n",
       "    .dataframe tbody tr th:only-of-type {\n",
       "        vertical-align: middle;\n",
       "    }\n",
       "\n",
       "    .dataframe tbody tr th {\n",
       "        vertical-align: top;\n",
       "    }\n",
       "\n",
       "    .dataframe thead th {\n",
       "        text-align: right;\n",
       "    }\n",
       "</style>\n",
       "<table border=\"1\" class=\"dataframe\">\n",
       "  <thead>\n",
       "    <tr style=\"text-align: right;\">\n",
       "      <th></th>\n",
       "      <th>Rank</th>\n",
       "      <th>Name</th>\n",
       "      <th>Platform</th>\n",
       "      <th>Year</th>\n",
       "      <th>Genre</th>\n",
       "      <th>Publisher</th>\n",
       "      <th>NA_Sales</th>\n",
       "      <th>EU_Sales</th>\n",
       "      <th>JP_Sales</th>\n",
       "      <th>Other_Sales</th>\n",
       "      <th>Global_Sales</th>\n",
       "    </tr>\n",
       "  </thead>\n",
       "  <tbody>\n",
       "    <tr>\n",
       "      <th>0</th>\n",
       "      <td>1</td>\n",
       "      <td>Wii Sports</td>\n",
       "      <td>Wii</td>\n",
       "      <td>2006.0</td>\n",
       "      <td>Sports</td>\n",
       "      <td>Nintendo</td>\n",
       "      <td>41.49</td>\n",
       "      <td>29.02</td>\n",
       "      <td>3.77</td>\n",
       "      <td>8.46</td>\n",
       "      <td>82.74</td>\n",
       "    </tr>\n",
       "    <tr>\n",
       "      <th>1</th>\n",
       "      <td>2</td>\n",
       "      <td>Super Mario Bros.</td>\n",
       "      <td>NES</td>\n",
       "      <td>1985.0</td>\n",
       "      <td>Platform</td>\n",
       "      <td>Nintendo</td>\n",
       "      <td>29.08</td>\n",
       "      <td>3.58</td>\n",
       "      <td>6.81</td>\n",
       "      <td>0.77</td>\n",
       "      <td>40.24</td>\n",
       "    </tr>\n",
       "    <tr>\n",
       "      <th>2</th>\n",
       "      <td>3</td>\n",
       "      <td>Mario Kart Wii</td>\n",
       "      <td>Wii</td>\n",
       "      <td>2008.0</td>\n",
       "      <td>Racing</td>\n",
       "      <td>Nintendo</td>\n",
       "      <td>15.85</td>\n",
       "      <td>12.88</td>\n",
       "      <td>3.79</td>\n",
       "      <td>3.31</td>\n",
       "      <td>35.82</td>\n",
       "    </tr>\n",
       "    <tr>\n",
       "      <th>3</th>\n",
       "      <td>4</td>\n",
       "      <td>Wii Sports Resort</td>\n",
       "      <td>Wii</td>\n",
       "      <td>2009.0</td>\n",
       "      <td>Sports</td>\n",
       "      <td>Nintendo</td>\n",
       "      <td>15.75</td>\n",
       "      <td>11.01</td>\n",
       "      <td>3.28</td>\n",
       "      <td>2.96</td>\n",
       "      <td>33.00</td>\n",
       "    </tr>\n",
       "    <tr>\n",
       "      <th>4</th>\n",
       "      <td>5</td>\n",
       "      <td>Pokemon Red/Pokemon Blue</td>\n",
       "      <td>GB</td>\n",
       "      <td>1996.0</td>\n",
       "      <td>Role-Playing</td>\n",
       "      <td>Nintendo</td>\n",
       "      <td>11.27</td>\n",
       "      <td>8.89</td>\n",
       "      <td>10.22</td>\n",
       "      <td>1.00</td>\n",
       "      <td>31.37</td>\n",
       "    </tr>\n",
       "  </tbody>\n",
       "</table>\n",
       "</div>"
      ],
      "text/plain": [
       "   Rank                      Name Platform    Year         Genre Publisher  \\\n",
       "0     1                Wii Sports      Wii  2006.0        Sports  Nintendo   \n",
       "1     2         Super Mario Bros.      NES  1985.0      Platform  Nintendo   \n",
       "2     3            Mario Kart Wii      Wii  2008.0        Racing  Nintendo   \n",
       "3     4         Wii Sports Resort      Wii  2009.0        Sports  Nintendo   \n",
       "4     5  Pokemon Red/Pokemon Blue       GB  1996.0  Role-Playing  Nintendo   \n",
       "\n",
       "   NA_Sales  EU_Sales  JP_Sales  Other_Sales  Global_Sales  \n",
       "0     41.49     29.02      3.77         8.46         82.74  \n",
       "1     29.08      3.58      6.81         0.77         40.24  \n",
       "2     15.85     12.88      3.79         3.31         35.82  \n",
       "3     15.75     11.01      3.28         2.96         33.00  \n",
       "4     11.27      8.89     10.22         1.00         31.37  "
      ]
     },
     "execution_count": 37,
     "metadata": {},
     "output_type": "execute_result"
    }
   ],
   "source": [
    "df = pd.read_csv(\"vgsales.csv\")\n",
    "df.head(5)"
   ]
  },
  {
   "cell_type": "code",
   "execution_count": 38,
   "metadata": {},
   "outputs": [
    {
     "name": "stdout",
     "output_type": "stream",
     "text": [
      "<class 'pandas.core.frame.DataFrame'>\n",
      "RangeIndex: 16598 entries, 0 to 16597\n",
      "Data columns (total 11 columns):\n",
      " #   Column        Non-Null Count  Dtype  \n",
      "---  ------        --------------  -----  \n",
      " 0   Rank          16598 non-null  int64  \n",
      " 1   Name          16598 non-null  object \n",
      " 2   Platform      16598 non-null  object \n",
      " 3   Year          16327 non-null  float64\n",
      " 4   Genre         16598 non-null  object \n",
      " 5   Publisher     16540 non-null  object \n",
      " 6   NA_Sales      16598 non-null  float64\n",
      " 7   EU_Sales      16598 non-null  float64\n",
      " 8   JP_Sales      16598 non-null  float64\n",
      " 9   Other_Sales   16598 non-null  float64\n",
      " 10  Global_Sales  16598 non-null  float64\n",
      "dtypes: float64(6), int64(1), object(4)\n",
      "memory usage: 1.4+ MB\n"
     ]
    }
   ],
   "source": [
    "df.info()"
   ]
  },
  {
   "cell_type": "code",
   "execution_count": 39,
   "metadata": {},
   "outputs": [
    {
     "name": "stdout",
     "output_type": "stream",
     "text": [
      "La colonne Rank a pour valeur minimal 1 et maximal 16600\n",
      "La colonne Year a pour valeur minimal 1980.0 et maximal 2020.0\n",
      "La colonne NA_Sales a pour valeur minimal 0.0 et maximal 41.49\n",
      "La colonne EU_Sales a pour valeur minimal 0.0 et maximal 29.02\n",
      "La colonne JP_Sales a pour valeur minimal 0.0 et maximal 10.22\n",
      "La colonne Other_Sales a pour valeur minimal 0.0 et maximal 10.57\n",
      "La colonne Global_Sales a pour valeur minimal 0.01 et maximal 82.74\n"
     ]
    }
   ],
   "source": [
    "for col in df.columns:\n",
    "    if df[col].dtype != \"object\":\n",
    "        print(f\"La colonne {col} a pour valeur minimal {df[col].min()} et maximal {df[col].max()}\")"
   ]
  },
  {
   "cell_type": "code",
   "execution_count": 40,
   "metadata": {},
   "outputs": [
    {
     "name": "stdout",
     "output_type": "stream",
     "text": [
      " En Amérique, les ventes ont un totale de 4392.950000000001\n",
      " En Europe, les ventes ont un totale de 2434.1299999999997\n",
      " Au Japon, les ventes ont un totale de 1291.0200000000002\n",
      " Ailleurs, les ventes ont un totale de 797.7500000000001\n",
      " Avec un totale de ventes de 8920.44\n"
     ]
    }
   ],
   "source": [
    "print(\" En Amérique, les ventes ont un totale de\", df[\"NA_Sales\"].sum())\n",
    "print(\" En Europe, les ventes ont un totale de\", df[\"EU_Sales\"].sum())\n",
    "print(\" Au Japon, les ventes ont un totale de\", df[\"JP_Sales\"].sum())\n",
    "print(\" Ailleurs, les ventes ont un totale de\", df[\"Other_Sales\"].sum())\n",
    "print(\" Avec un totale de ventes de\", df[\"Global_Sales\"].sum())"
   ]
  },
  {
   "cell_type": "code",
   "execution_count": 41,
   "metadata": {},
   "outputs": [
    {
     "name": "stdout",
     "output_type": "stream",
     "text": [
      "L'Amérique représentent 49.245889216227006 % des ventes\n",
      "L'Europe représentent 27.28710691400872 % des ventes\n",
      "Le Japon représentent 14.472604490361462 % des ventes\n",
      "Ailleurs représentent 8.942944518431828 % des ventes\n"
     ]
    }
   ],
   "source": [
    "global_sales = df[\"Global_Sales\"].sum()\n",
    "print(\"L'Amérique représentent\", df[\"NA_Sales\"].sum() * 100 / global_sales,\"% des ventes\")\n",
    "print(\"L'Europe représentent\", df[\"EU_Sales\"].sum() * 100 / global_sales,\"% des ventes\")\n",
    "print(\"Le Japon représentent\", df[\"JP_Sales\"].sum() * 100 / global_sales,\"% des ventes\")\n",
    "print(\"Ailleurs représentent\", df[\"Other_Sales\"].sum() * 100 / global_sales,\"% des ventes\")"
   ]
  },
  {
   "cell_type": "code",
   "execution_count": 42,
   "metadata": {},
   "outputs": [
    {
     "name": "stdout",
     "output_type": "stream",
     "text": [
      "        Rank  Name  Platform  Genre  Publisher  NA_Sales  EU_Sales  JP_Sales  \\\n",
      "Year                                                                           \n",
      "1980.0     9     9         9      9          9         9         9         9   \n",
      "1981.0    46    46        46     46         46        46        46        46   \n",
      "1982.0    36    36        36     36         36        36        36        36   \n",
      "1983.0    17    17        17     17         17        17        17        17   \n",
      "1984.0    14    14        14     14         14        14        14        14   \n",
      "1985.0    14    14        14     14         14        14        14        14   \n",
      "1986.0    21    21        21     21         21        21        21        21   \n",
      "1987.0    16    16        16     16         16        16        16        16   \n",
      "1988.0    15    15        15     15         15        15        15        15   \n",
      "1989.0    17    17        17     17         17        17        17        17   \n",
      "1990.0    16    16        16     16         16        16        16        16   \n",
      "1991.0    41    41        41     41         41        41        41        41   \n",
      "1992.0    43    43        43     43         43        43        43        43   \n",
      "1993.0    60    60        60     60         60        60        60        60   \n",
      "1994.0   121   121       121    121        121       121       121       121   \n",
      "1995.0   219   219       219    219        219       219       219       219   \n",
      "1996.0   263   263       263    263        263       263       263       263   \n",
      "1997.0   289   289       289    289        289       289       289       289   \n",
      "1998.0   379   379       379    379        379       379       379       379   \n",
      "1999.0   338   338       338    338        338       338       338       338   \n",
      "2000.0   349   349       349    349        349       349       349       349   \n",
      "2001.0   482   482       482    482        482       482       482       482   \n",
      "2002.0   829   829       829    829        829       829       829       829   \n",
      "2003.0   775   775       775    775        775       775       775       775   \n",
      "2004.0   763   763       763    763        744       763       763       763   \n",
      "2005.0   941   941       941    941        936       941       941       941   \n",
      "2006.0  1008  1008      1008   1008       1008      1008      1008      1008   \n",
      "2007.0  1202  1202      1202   1202       1201      1202      1202      1202   \n",
      "2008.0  1428  1428      1428   1428       1428      1428      1428      1428   \n",
      "2009.0  1431  1431      1431   1431       1431      1431      1431      1431   \n",
      "2010.0  1259  1259      1259   1259       1257      1259      1259      1259   \n",
      "2011.0  1139  1139      1139   1139       1136      1139      1139      1139   \n",
      "2012.0   657   657       657    657        655       657       657       657   \n",
      "2013.0   546   546       546    546        546       546       546       546   \n",
      "2014.0   582   582       582    582        580       582       582       582   \n",
      "2015.0   614   614       614    614        614       614       614       614   \n",
      "2016.0   344   344       344    344        342       344       344       344   \n",
      "2017.0     3     3         3      3          3         3         3         3   \n",
      "2020.0     1     1         1      1          1         1         1         1   \n",
      "\n",
      "        Other_Sales  Global_Sales  \n",
      "Year                               \n",
      "1980.0            9             9  \n",
      "1981.0           46            46  \n",
      "1982.0           36            36  \n",
      "1983.0           17            17  \n",
      "1984.0           14            14  \n",
      "1985.0           14            14  \n",
      "1986.0           21            21  \n",
      "1987.0           16            16  \n",
      "1988.0           15            15  \n",
      "1989.0           17            17  \n",
      "1990.0           16            16  \n",
      "1991.0           41            41  \n",
      "1992.0           43            43  \n",
      "1993.0           60            60  \n",
      "1994.0          121           121  \n",
      "1995.0          219           219  \n",
      "1996.0          263           263  \n",
      "1997.0          289           289  \n",
      "1998.0          379           379  \n",
      "1999.0          338           338  \n",
      "2000.0          349           349  \n",
      "2001.0          482           482  \n",
      "2002.0          829           829  \n",
      "2003.0          775           775  \n",
      "2004.0          763           763  \n",
      "2005.0          941           941  \n",
      "2006.0         1008          1008  \n",
      "2007.0         1202          1202  \n",
      "2008.0         1428          1428  \n",
      "2009.0         1431          1431  \n",
      "2010.0         1259          1259  \n",
      "2011.0         1139          1139  \n",
      "2012.0          657           657  \n",
      "2013.0          546           546  \n",
      "2014.0          582           582  \n",
      "2015.0          614           614  \n",
      "2016.0          344           344  \n",
      "2017.0            3             3  \n",
      "2020.0            1             1  \n"
     ]
    }
   ],
   "source": [
    "print(df.groupby(['Year']).count())\n",
    "    "
   ]
  },
  {
   "cell_type": "code",
   "execution_count": 43,
   "metadata": {},
   "outputs": [
    {
     "name": "stdout",
     "output_type": "stream",
     "text": [
      "['Wii Sports'] ['Wii'] [82.74]\n"
     ]
    }
   ],
   "source": [
    "print(df[\"Name\"][df[\"Global_Sales\"]==df[\"Global_Sales\"].max()].values,df[\"Platform\"][df[\"Global_Sales\"]==df[\"Global_Sales\"].max()].values,df[\"Global_Sales\"][df[\"Global_Sales\"]==df[\"Global_Sales\"].max()].values)"
   ]
  },
  {
   "cell_type": "code",
   "execution_count": 44,
   "metadata": {},
   "outputs": [
    {
     "name": "stdout",
     "output_type": "stream",
     "text": [
      "('PS2',) 1255.6399999999999\n"
     ]
    }
   ],
   "source": [
    "for platform in df.groupby(['Platform']):\n",
    "    max_sales = df.groupby(['Platform']).sum()[\"Global_Sales\"].max()\n",
    "    platform_sale = platform[1][\"Global_Sales\"].sum()\n",
    "    if  round(platform_sale, 2) == round(max_sales, 2):\n",
    "        print(platform[0], platform_sale)"
   ]
  },
  {
   "cell_type": "code",
   "execution_count": 45,
   "metadata": {},
   "outputs": [
    {
     "name": "stdout",
     "output_type": "stream",
     "text": [
      "('Platform',) 0.9383408577878104\n"
     ]
    }
   ],
   "source": [
    "for genre in df.groupby(['Genre']):\n",
    "    max_sales = df.groupby(['Genre'])[\"Global_Sales\"].mean().max()\n",
    "    genre_sale = genre[1][\"Global_Sales\"].mean()\n",
    "    if round(genre_sale, 2) == round(max_sales, 2):\n",
    "        print(genre[0], genre_sale)"
   ]
  },
  {
   "cell_type": "code",
   "execution_count": 60,
   "metadata": {},
   "outputs": [
    {
     "data": {
      "text/plain": [
       "[<matplotlib.lines.Line2D at 0x7fcdd9994b50>]"
      ]
     },
     "execution_count": 60,
     "metadata": {},
     "output_type": "execute_result"
    },
    {
     "data": {
      "image/png": "[encoded data removed]",
      "text/plain": [
       "<Figure size 640x480 with 1 Axes>"
      ]
     },
     "metadata": {},
     "output_type": "display_data"
    }
   ],
   "source": [
    "years = df[\"Year\"].unique()\n",
    "global_sales_evolution = {}\n",
    "for year in years:\n",
    "    global_sales_evolution[str(year)] = df[df[\"Year\"] == year][\"Global_Sales\"].sum()\n",
    "\n",
    "\n",
    "lists = sorted(global_sales_evolution.items()) \n",
    "year, values = zip(*lists)\n",
    "plt.xticks(rotation=90)\n",
    "plt.plot(year, values)"
   ]
  },
  {
   "cell_type": "code",
   "execution_count": 73,
   "metadata": {},
   "outputs": [
    {
     "name": "stdout",
     "output_type": "stream",
     "text": [
      "{'Nintendo': 0.20027711637542545, 'Microsoft Game Studios': 0.02755357359054038, 'Take-Two Interactive': 0.04478927048441556, 'Sony Computer Entertainment': 0.06810202187336052, 'Activision': 0.08154978902385981, 'Ubisoft': 0.053217105882669466, 'Bethesda Softworks': 0.009208065969840052, 'Electronic Arts': 0.12446919658671546, 'Sega': 0.030602750536969023, 'SquareSoft': 0.0064626856971180795, 'Atari': 0.01762469115873208, '505 Games': 0.00626762805422154, 'Capcom': 0.022520189587060733, 'GT Interactive': 0.0028283358219998115, 'Konami Digital Entertainment': 0.031796637834008185, 'Sony Computer Entertainment Europe': 0.0026781190165507535, 'Square Enix': 0.016274981951562927, 'LucasArts': 0.009790996856657295, 'Virgin Interactive': 0.004917918847052389, 'Warner Bros. Interactive Entertainment': 0.017251391186981806, 'Universal Interactive': 0.0019920542036043066, 'Eidos Interactive': 0.011095865226378968, 'RedOctane': 0.0009730461726103196, 'Vivendi Games': 0.006525462869544551, 'Enix Corporation': 0.0037823246386949516, 'Namco Bandai Games': 0.028484020967575588, 'Palcom': 0.0004674657303899807, 'Hasbro Interactive': 0.0017061938648766204, 'THQ': 0.038201030442444536, 'Fox Interactive': 0.0008284344718421959, 'Acclaim Entertainment': 0.007190228284703445, 'MTV Games': 0.0023507809031841475, 'Disney Interactive Studios': 0.0134477671504993, nan: 0.0, 'Majesco Entertainment': 0.0018026016653887034, 'Codemasters': 0.005366327221527189, 'Red Orb': 0.0005874149705619902, 'Level 5': 0.0013642824793395842, 'Arena Entertainment': 0.000529121881880266, 'Midway Games': 0.007830331239266224, 'JVC': 0.0003138858621323612, 'Deep Silver': 0.002877660743192039, '989 Studios': 0.0014931998870010893, 'NCSoft': 0.000290344422472434, 'UEP Systems': 0.0002522297106420759, 'Parker Bros.': 0.000557147405284941, 'Maxis': 0.0003800260973673944, 'Imagic': 0.0005403320912421361, 'Tecmo Koei': 0.006003067113281408, 'Valve Software': 0.0003620897623884024, 'ASCII Entertainment': 0.0012207917995076473, 'Mindscape': 0.0008676702046087413, 'Infogrames': 0.0018317482097295651, 'Unknown': 0.0038854585648241563, 'Square': 0.00040805162077206953, 'Valve': 0.0001950576428965387, 'Activision Value': 0.0007802305715861548, 'Banpresto': 0.0019505764289653874, 'D3Publisher': 0.0027050235190192408, 'Oxygen Interactive': 0.0003878732439207034, 'Red Storm Entertainment': 0.00026007685719538497, 'Video System': 0.0002443825640887669, 'Hello Games': 0.00017936334978992067, 'Global Star': 0.000857581016183058, 'Gotham Games': 0.00041701978826156553, 'Westwood Studios': 0.00017375824510898564, 'GungHo': 0.00035312159489890626, 'Crave Entertainment': 0.0011131737896336947, 'Hudson Soft': 0.0025794691741662964, 'Coleco': 0.00034303240647322325, 'Rising Star Games': 0.0019404872405397045, 'Atlus': 0.0014281806727022431, 'TDK Mediactive': 0.0009315683979714003, 'ASC Games': 0.00022644622910977485, 'Zoo Games': 0.0005403320912421361, 'Accolade': 0.0001883315172794167, 'Sony Online Entertainment': 0.00039572039047401246, '3DO': 0.001134473187421248, 'RTL': 0.0002242041872374008, 'Natsume': 0.0004136567254530045, 'Focus Home Interactive': 0.0008418867230764402, 'Alchemist': 0.000294828506217182, 'Black Label Games': 0.00013452251234244048, 'SouthPeak Games': 0.0007118482944787475, 'Mastertronic': 0.0001939366219603517, 'Ocean': 0.00040468855796350857, 'Zoo Digital Publishing': 0.0014427539448726744, 'Psygnosis': 0.0008149822206079521, 'City Interactive': 0.0005167906515822089, 'Empire Interactive': 0.0012656326369551276, 'Success': 0.0002197201034926528, 'Compile': 0.00027577115030200295, 'Russel': 0.00013564353327862752, 'Taito': 0.0003183699458771091, 'Agetec': 0.0002174780616202788, 'GSP': 0.00041365672545300457, 'Microprose': 0.00022644622910977485, 'Play It': 0.00048316002349659877, 'Slightly Mad Studios': 0.00015470088919380658, 'Tomy Corporation': 0.000557147405284941, 'Sammy Corporation': 0.00030603871557905214, 'Koch Media': 0.000528000860944079, 'Game Factory': 0.0004248669348148746, 'Titus': 0.00037217895081408537, 'Marvelous Entertainment': 0.0002611978781315719, 'Genki': 0.0001636690566833026, 'Mojang': 0.00032397505055804424, 'Pinnacle': 0.0001591849729385546, 'CTO SpA': 0.00010089188425683038, 'TalonSoft': 9.752882144826936e-05, 'Crystal Dynamics': 0.00019169458008797772, 'SCi': 0.00039459936953782545, 'Quelle': 9.752882144826936e-05, 'mixi, Inc': 9.640780051208236e-05, 'Rage Software': 0.00015918497293855463, 'Ubisoft Annecy': 0.0004999753375394038, 'Scholastic Inc.': 0.00032621709243041815, 'Interplay': 0.0007465999435005446, 'Mystique': 9.192371676733434e-05, 'ChunSoft': 0.0004562555210281106, 'Square EA': 8.968167489496034e-05, '20th Century Fox Video Games': 0.00021747806162027882, 'Avanquest Software': 0.00018945253821560373, 'Hudson Entertainment': 0.0001894525382156037, 'Nordic Games': 0.0004977332956670298, 'Men-A-Vision': 8.631861208639933e-05, 'Nobilis': 0.00021747806162027882, 'Big Ben Interactive': 0.00011210209361870042, 'Touchstone': 0.00017712130791754669, 'Spike': 0.0006894278757550076, 'Jester Interactive': 0.00012891740766150548, 'Nippon Ichi Software': 0.0016008178968750422, 'LEGO Media': 0.00017487926604517262, 'Quest': 7.959248646927729e-05, 'Illusion Softworks': 7.847146553309028e-05, 'Tigervision': 0.00015918497293855458, 'Funbox Media': 0.0001020129051930174, 'Rocket Company': 0.00020402581038603477, 'Metro 3D': 0.0002062678522584088, 'Mattel Interactive': 0.00039347834860163844, 'IE Institute': 0.00010761800987395242, 'Rondomedia': 0.0002892234015362471, 'Sony Computer Entertainment America': 0.0001322804704700665, 'Universal Gamex': 7.062431897978126e-05, 'Ghostlight': 0.0003127648411961742, 'Wizard Video Games': 6.950329804359426e-05, 'BMG Interactive Entertainment': 0.0001322804704700665, 'PQube': 0.00047867593975185074, 'Trion Worlds': 0.00012891740766150548, 'Laguna': 0.00017375824510898564, 'Ignition Entertainment': 0.0007645362784795366, 'Takara': 0.00038675222298451646, 'Kadokawa Shoten': 0.0004226248929425005, 'Destineer': 0.0004887651281775337, 'Enterbrain': 0.0002499876687697019, 'Xseed Games': 0.00010089188425683038, 'Imagineer': 0.0002970705480895561, 'System 3 Arcade Software': 0.00020178376851366078, 'CPG Products': 6.053513055409823e-05, 'Aruze Corp': 0.0001322804704700665, 'Gamebridge': 8.18345283416513e-05, 'Midas Interactive Entertainment': 0.00030491769464286513, 'Jaleco': 0.00021747806162027882, 'Answer Software': 5.605104680935021e-05, 'XS Games': 0.0001636690566833026, 'Activision Blizzard': 5.3809004936976195e-05, 'Pack In Soft': 5.3809004936976195e-05, 'Rebellion': 5.49300258731632e-05, 'Xplosiv': 0.0001838474335346687, 'Ultravision': 5.2687984000789195e-05, 'GameMill Entertainment': 0.00015470088919380655, 'Wanadoo': 7.286636085215529e-05, 'NovaLogic': 9.192371676733435e-05, 'Telltale Games': 0.00030491769464286513, 'Epoch': 0.00011770719829963544, 'BAM! Entertainment': 0.000554905363412567, 'Knowledge Adventure': 0.0001647900776194896, 'Mastiff': 0.0002499876687697019, 'Tetris Online': 4.820390025604118e-05, 'Harmonix Music Systems': 8.968167489496034e-05, 'ESP': 6.614023523503325e-05, 'TYO': 4.7082879319854175e-05, 'Telegames': 0.00011546515642726144, 'Mud Duck Productions': 9.528677957589536e-05, 'Screenlife': 0.00010313392612920438, 'Pioneer LDC': 8.295554927783831e-05, 'Magical Company': 4.596185838366717e-05, 'Mentor Interactive': 0.00011994924017200945, 'Kemco': 0.00024886664783351485, 'Human Entertainment': 0.00033630628085610126, 'Avanquest': 0.00033630628085610126, 'Data Age': 7.959248646927729e-05, 'Electronic Arts Victor': 4.7082879319854175e-05, 'Black Bean Games': 0.00036881588800552435, 'Jack of All Games': 4.708287931985418e-05, '989 Sports': 4.259879557510616e-05, 'Takara Tomy': 0.00030267565277049106, 'Media Rings': 7.286636085215528e-05, 'Elf': 7.174533991596827e-05, 'Kalypso Media': 0.0002746501293658159, 'Starfish': 8.07135074054643e-05, 'Zushi Games': 0.00021187295693934379, 'Jorudan': 0.0001064969889377654, 'Destination Software, Inc': 9.864984238445636e-05, 'New': 4.035675370273215e-05, 'Brash Entertainment': 0.00013788557515100153, 'ITT Family Games': 3.811471183035814e-05, 'PopCap Games': 0.00017600028698135965, 'Home Entertainment Suppliers': 7.959248646927732e-05, 'Ackkstudios': 9.416575863970836e-05, 'Starpath Corp.': 3.699369089417114e-05, 'P2 Games': 4.484083744748017e-05, 'BPS': 5.829308868172422e-05, 'Gathering of Developers': 0.0001334014914062535, 'NewKidCo': 0.00014909578451287157, 'Storm City Games': 0.00017487926604517264, 'CokeM Interactive': 3.475164902179713e-05, 'CBS Electronics': 3.475164902179713e-05, 'Magix': 3.923573276654514e-05, 'Marvelous Interactive': 0.00046746573038998083, 'Nihon Falcom Corporation': 8.631861208639933e-05, 'Wargaming.net': 3.250960714942312e-05, 'Angel Studios': 4.9324921192228175e-05, 'Arc System Works': 0.00016591109855567662, 'Playmates': 3.138858621323612e-05, 'SNK Playmore': 0.00010761800987395239, 'Hamster Corporation': 3.363062808561013e-05, 'From Software': 0.00018272641259848172, 'Nippon Columbia': 0.00010649698893776541, 'Nichibutsu': 3.138858621323612e-05, 'Little Orbit': 0.0002286882709821488, 'Conspiracy Entertainment': 9.416575863970836e-05, 'DTP Entertainment': 0.0004024465160911344, 'Hect': 5.605104680935021e-05, 'Mumbo Jumbo': 6.501921429884626e-05, 'Pacific Century Cyber Works': 2.914654434086211e-05, 'Indie Games': 3.5872669957984134e-05, 'Liquid Games': 3.0267565277049114e-05, 'NEC': 4.820390025604118e-05, 'Axela': 2.8025523404675104e-05, 'ArtDink': 8.18345283416513e-05, 'Sunsoft': 0.00010649698893776541, 'Gust': 0.00012331230298057047, 'SNK': 0.00029034442247243404, 'NEC Interchannel': 8.743963302258632e-05, 'FuRyu': 0.00014797476357668456, 'Xing Entertainment': 2.6904502468488097e-05, 'ValuSoft': 4.371981651129316e-05, 'Victor Interactive': 9.977086332064338e-05, 'Detn8 Games': 2.5783481532301097e-05, 'American Softworks': 2.5783481532301097e-05, 'Nordcurrent': 6.614023523503325e-05, 'Bomb': 2.466246059611409e-05, 'Falcom Corporation': 0.0001356435332786275, 'AQ Interactive': 5.941410961791122e-05, 'CCP': 2.466246059611409e-05, 'Milestone S.r.l.': 0.00014349067983193654, 'Sears': 2.3541439659927087e-05, 'JoWood Productions': 0.00016703211949186365, 'Seta Corporation': 7.062431897978128e-05, 'On Demand': 2.3541439659927087e-05, 'NCS': 4.484083744748017e-05, 'Aspyr': 6.950329804359426e-05, 'Gremlin Interactive Ltd': 0.00012331230298057044, 'Agatsuma Entertainment': 3.4751649021797134e-05, 'Compile Heart': 0.00015357986825761957, 'Culture Brain': 3.0267565277049114e-05, 'Mad Catz': 3.363062808561013e-05, 'Shogakukan': 4.932492119222819e-05, 'Merscom LLC': 2.2420418723740084e-05, 'Rebellion Developments': 3.363062808561013e-05, 'Nippon Telenet': 2.914654434086211e-05, 'TDK Core': 6.950329804359427e-05, 'bitComposer Games': 4.5961858383667175e-05, 'Foreign Media Games': 7.062431897978126e-05, 'Astragon': 7.174533991596828e-05, 'SSI': 2.129939778755308e-05, 'Kadokawa Games': 6.501921429884626e-05, 'Idea Factory': 0.00045065041634717573, 'Performance Designed Products': 4.035675370273215e-05, 'Asylum Entertainment': 6.614023523503325e-05, 'Core Design Ltd.': 3.250960714942313e-05, 'PlayV': 4.932492119222818e-05, 'UFO Interactive': 0.00010761800987395239, 'Idea Factory International': 6.838227710740726e-05, 'Playlogic Game Factory': 0.0001345225123424405, 'Essential Games': 2.5783481532301097e-05, 'Adeline Software': 1.905735591517907e-05, 'Funcom': 2.2420418723740084e-05, 'Panther Software': 1.905735591517907e-05, 'Blast! Entertainment Ltd': 4.259879557510617e-05, 'Game Life': 3.363062808561013e-05, 'DSI Games': 3.923573276654515e-05, 'Avalon Interactive': 5.3809004936976195e-05, 'Popcorn Arcade': 5.49300258731632e-05, 'Neko Entertainment': 3.4751649021797134e-05, 'Vir2L Studios': 2.914654434086211e-05, 'Aques': 1.7936334978992067e-05, 'Syscom': 3.0267565277049114e-05, 'White Park Bay Software': 1.7936334978992067e-05, 'System 3': 2.4662460596114094e-05, 'Vatical Entertainment': 2.466246059611409e-05, 'Daedalic': 3.138858621323612e-05, 'EA Games': 1.681531404280506e-05, 'Media Factory': 3.250960714942313e-05, 'Vic Tokai': 3.0267565277049114e-05, 'The Adventure Company': 5.7172067745537215e-05, 'Game Arts': 1.569429310661806e-05, 'Broccoli': 0.00010761800987395242, 'Acquire': 0.00011994924017200945, 'General Entertainment': 1.569429310661806e-05, 'Excalibur Publishing': 3.138858621323612e-05, 'Imadio': 1.569429310661806e-05, 'Swing! Entertainment': 5.3809004936976195e-05, 'Sony Music Entertainment': 1.569429310661806e-05, 'Aqua Plus': 0.00014012761702337554, 'Paradox Interactive': 8.519759115021234e-05, 'Hip Interactive': 4.035675370273215e-05, 'DreamCatcher Interactive': 0.0001064969889377654, 'Tripwire Interactive': 1.569429310661806e-05, 'Sting': 7.286636085215528e-05, 'Yacht Club Games': 3.5872669957984134e-05, 'SCS Software': 1.4573272170431055e-05, 'Bigben Interactive': 9.416575863970836e-05, 'Havas Interactive': 1.4573272170431055e-05, 'Slitherine Software': 2.3541439659927087e-05, 'Graffiti': 4.2598795575106154e-05, 'Funsta': 2.2420418723740084e-05, 'Telstar': 3.0267565277049114e-05, 'U.S. Gold': 3.699369089417114e-05, 'DreamWorks Interactive': 1.4573272170431055e-05, 'Data Design Interactive': 3.250960714942313e-05, 'MTO': 4.484083744748016e-05, 'DHM Interactive': 2.0178376851366074e-05, 'FunSoft': 1.3452251234244049e-05, 'SPS': 1.3452251234244049e-05, 'Bohemia Interactive': 1.3452251234244049e-05, 'Reef Entertainment': 3.811471183035815e-05, 'Tru Blu Entertainment': 3.138858621323612e-05, 'Moss': 1.4573272170431055e-05, 'T&E Soft': 1.3452251234244049e-05, 'O-Games': 0.00012107026110819643, 'Aksys Games': 4.932492119222818e-05, 'NDA Productions': 1.3452251234244049e-05, 'Data East': 1.681531404280506e-05, 'Time Warner Interactive': 3.923573276654514e-05, 'Gainax Network Systems': 1.7936334978992067e-05, 'Daito': 2.5783481532301094e-05, 'O3 Entertainment': 2.466246059611409e-05, 'Gameloft': 1.2331230298057045e-05, 'Xicat Interactive': 1.905735591517907e-05, 'Simon & Schuster Interactive': 1.2331230298057045e-05, 'Valcon Games': 5.0445942128415195e-05, 'PopTop Software': 1.2331230298057045e-05, 'TOHO': 1.2331230298057045e-05, 'HMH Interactive': 1.569429310661806e-05, '5pb': 0.0001827264125984817, 'Cave': 3.699369089417114e-05, 'CDV Software Entertainment': 2.2420418723740084e-05, 'Microids': 4.484083744748017e-05, 'PM Studios': 1.1210209361870042e-05, 'Paon': 2.8025523404675104e-05, 'Micro Cabin': 2.242041872374008e-05, 'GameTek': 1.1210209361870042e-05, 'Benesse': 3.699369089417114e-05, 'Type-Moon': 1.1210209361870042e-05, 'Enjoy Gaming ltd.': 1.1210209361870042e-05, 'Asmik Corp': 1.905735591517907e-05, 'Interplay Productions': 1.1210209361870042e-05, 'Asmik Ace Entertainment': 2.5783481532301097e-05, 'inXile Entertainment': 1.1210209361870042e-05, 'Image Epoch': 1.1210209361870042e-05, 'Phantom EFX': 1.0089188425683037e-05, 'Evolved Games': 3.5872669957984134e-05, 'responDESIGN': 1.4573272170431055e-05, 'Culture Publishers': 1.0089188425683037e-05, 'Griffin International': 1.0089188425683037e-05, 'Hackberry': 3.475164902179713e-05, 'Hearty Robin': 1.0089188425683037e-05, 'Nippon Amuse': 1.0089188425683037e-05, 'Origin Systems': 1.0089188425683037e-05, 'Seventh Chord': 8.968167489496034e-06, 'Mitsui': 8.968167489496034e-06, 'Milestone': 8.968167489496034e-06, 'Abylight': 8.968167489496034e-06, 'Flight-Plan': 1.3452251234244049e-05, 'Glams': 8.968167489496034e-06, 'Locus': 7.84714655330903e-06, 'Warp': 7.84714655330903e-06, 'Daedalic Entertainment': 1.569429310661806e-05, 'Alternative Software': 2.2420418723740084e-05, 'Myelin Media': 1.4573272170431055e-05, 'Mercury Games': 2.3541439659927087e-05, 'Irem Software Engineering': 5.15669630646022e-05, 'Sunrise Interactive': 1.905735591517907e-05, 'Elite': 7.84714655330903e-06, 'Evolution Games': 7.84714655330903e-06, 'Tivola': 1.905735591517907e-05, 'Global A Entertainment': 1.6815314042805064e-05, 'Edia': 1.0089188425683039e-05, 'Athena': 1.0089188425683039e-05, 'Aria': 7.84714655330903e-06, 'Gamecock': 2.242041872374008e-05, 'Tommo': 2.3541439659927087e-05, 'Altron': 7.84714655330903e-06, 'Happinet': 2.0178376851366077e-05, 'iWin': 6.726125617122024e-06, 'Media Works': 2.0178376851366074e-05, 'Fortyfive': 6.726125617122024e-06, 'Revolution Software': 7.847146553309029e-06, 'Imax': 6.726125617122024e-06, 'Crimson Cow': 8.968167489496034e-06, '10TACLE Studios': 1.2331230298057045e-05, 'Groove Games': 1.0089188425683037e-05, 'Pack-In-Video': 1.2331230298057045e-05, 'Insomniac Games': 1.345225123424405e-05, 'Ascaron Entertainment GmbH': 1.2331230298057045e-05, 'Asgard': 2.8025523404675104e-05, 'Ecole': 6.726125617122024e-06, 'Yumedia': 6.726125617122024e-06, 'Phenomedia': 2.129939778755308e-05, 'HAL Laboratory': 6.726125617122024e-06, 'Grand Prix Games': 6.726125617122024e-06, 'DigiCube': 6.726125617122024e-06, 'Creative Core': 1.121020936187004e-05, 'Kaga Create': 1.569429310661806e-05, 'WayForward Technologies': 5.605104680935021e-06, 'LSP Games': 1.3452251234244049e-05, 'ASCII Media Works': 3.0267565277049114e-05, 'Coconuts Japan': 7.84714655330903e-06, 'Arika': 1.0089188425683039e-05, 'Ertain': 5.605104680935021e-06, 'Marvel Entertainment': 5.605104680935021e-06, 'Prototype': 6.838227710740725e-05, 'TopWare Interactive': 1.3452251234244049e-05, 'Phantagram': 5.605104680935021e-06, '1C Company': 1.121020936187004e-05, 'The Learning Company': 5.605104680935021e-06, 'TechnoSoft': 5.605104680935021e-06, 'Vap': 5.605104680935021e-06, 'Misawa': 7.84714655330903e-06, 'Tradewest': 1.2331230298057045e-05, 'Team17 Software': 5.605104680935021e-06, 'Yeti': 2.69045024684881e-05, 'Pow': 5.605104680935021e-06, 'Navarre Corp': 5.605104680935021e-06, 'MediaQuest': 5.605104680935021e-06, 'Max Five': 5.605104680935021e-06, 'Comfort': 1.6815314042805064e-05, 'Monte Christo Multimedia': 5.605104680935021e-06, 'Pony Canyon': 5.605104680935021e-06, 'Riverhillsoft': 4.484083744748017e-06, 'Summitsoft': 4.484083744748017e-06, 'Milestone S.r.l': 5.605104680935021e-06, 'Playmore': 4.484083744748017e-06, 'MLB.com': 4.484083744748017e-06, 'Kool Kizz': 4.484083744748017e-06, 'Flashpoint Games': 8.968167489496034e-06, '49Games': 4.484083744748017e-06, 'Legacy Interactive': 4.484083744748017e-06, 'Alawar Entertainment': 5.605104680935021e-06, 'CyberFront': 3.0267565277049114e-05, 'Cloud Imperium Games Corporation': 8.968167489496034e-06, 'Societa': 4.484083744748017e-06, 'Virtual Play Games': 6.726125617122024e-06, 'Interchannel': 1.1210209361870042e-05, 'Sonnet': 6.726125617122024e-06, 'Experience Inc.': 6.726125617122025e-06, 'Zenrin': 6.726125617122024e-06, 'Iceberg Interactive': 8.968167489496034e-06, 'Ivolgamus': 4.484083744748017e-06, '2D Boy': 4.484083744748017e-06, 'MC2 Entertainment': 8.968167489496034e-06, 'Kando Games': 3.363062808561012e-06, 'Just Flight': 3.363062808561012e-06, 'Office Create': 6.726125617122024e-06, 'Mamba Games': 5.605104680935021e-06, 'Fields': 3.363062808561012e-06, 'Princess Soft': 7.84714655330903e-06, 'Maximum Family Games': 3.363062808561012e-06, 'Berkeley': 3.363062808561012e-06, 'Fuji': 3.363062808561012e-06, 'Dusenberry Martin Racing': 5.605104680935021e-06, 'imageepoch Inc.': 4.484083744748017e-06, 'Big Fish Games': 5.605104680935021e-06, 'Her Interactive': 3.363062808561012e-06, 'Kamui': 3.363062808561012e-06, 'ASK': 3.363062808561012e-06, 'Headup Games': 3.363062808561012e-06, 'KSS': 3.363062808561012e-06, 'Cygames': 3.363062808561012e-06, 'KID': 8.968167489496034e-06, 'Quinrose': 2.4662460596114097e-05, 'Sunflowers': 3.363062808561012e-06, 'dramatic create': 1.2331230298057045e-05, 'TGL': 1.121020936187004e-05, 'Encore': 7.84714655330903e-06, 'Extreme Entertainment Group': 3.363062808561012e-06, 'Intergrow': 3.363062808561012e-06, 'G.Rev': 4.484083744748017e-06, 'Sweets': 5.605104680935021e-06, 'Kokopeli Digital Studios': 3.363062808561012e-06, 'Number None': 3.363062808561012e-06, 'Nexon': 3.363062808561012e-06, 'id Software': 3.363062808561012e-06, 'BushiRoad': 3.363062808561012e-06, 'Tryfirst': 3.363062808561012e-06, 'Strategy First': 3.363062808561012e-06, '7G//AMES': 8.968167489496034e-06, 'GN Software': 5.605104680935021e-06, \"Yuke's\": 8.968167489496034e-06, 'Easy Interactive': 5.605104680935021e-06, 'Licensed 4U': 7.84714655330903e-06, 'FuRyu Corporation': 3.363062808561012e-06, 'Lexicon Entertainment': 5.605104680935021e-06, 'Paon Corporation': 3.363062808561012e-06, 'Kids Station': 3.363062808561012e-06, 'GOA': 2.2420418723740084e-06, 'Graphsim Entertainment': 2.2420418723740084e-06, 'King Records': 2.2420418723740084e-06, 'Introversion Software': 2.2420418723740084e-06, 'Minato Station': 5.605104680935021e-06, 'Devolver Digital': 4.484083744748017e-06, 'Blue Byte': 3.363062808561012e-06, 'Gaga': 2.2420418723740084e-06, 'Yamasa Entertainment': 4.484083744748017e-06, 'Plenty': 2.2420418723740084e-06, 'Views': 3.363062808561012e-06, 'fonfun': 2.2420418723740084e-06, 'NetRevo': 3.363062808561012e-06, 'Codemasters Online': 2.2420418723740084e-06, 'Quintet': 2.2420418723740084e-06, 'Phoenix Games': 2.2420418723740084e-06, 'Dorart': 3.363062808561012e-06, 'Marvelous Games': 2.2420418723740084e-06, 'Focus Multimedia': 5.605104680935021e-06, 'Imageworks': 2.2420418723740084e-06, 'Karin Entertainment': 2.2420418723740084e-06, 'Aerosoft': 3.363062808561012e-06, 'Technos Japan Corporation': 2.2420418723740084e-06, 'Gakken': 4.484083744748017e-06, 'Mirai Shounen': 2.2420418723740084e-06, 'Datam Polystar': 3.363062808561012e-06, 'Saurus': 2.2420418723740084e-06, 'HuneX': 3.363062808561012e-06, 'Revolution (Japan)': 2.2420418723740084e-06, 'Giza10': 2.2420418723740084e-06, 'Visco': 2.2420418723740084e-06, 'Alvion': 4.484083744748017e-06, 'Mycom': 2.2420418723740084e-06, 'Giga': 2.2420418723740084e-06, 'Warashi': 2.2420418723740084e-06, 'System Soft': 5.605104680935021e-06, 'Sold Out': 2.2420418723740084e-06, 'Lighthouse Interactive': 2.2420418723740084e-06, 'Masque Publishing': 2.2420418723740084e-06, 'RED Entertainment': 2.2420418723740084e-06, 'Michaelsoft': 1.1210209361870042e-06, 'Media Entertainment': 1.1210209361870042e-06, 'New World Computing': 1.1210209361870042e-06, 'Genterprise': 1.1210209361870042e-06, 'Interworks Unlimited, Inc.': 1.1210209361870042e-06, 'Boost On': 1.1210209361870042e-06, 'Stainless Games': 1.1210209361870042e-06, 'EON Digital Entertainment': 1.1210209361870042e-06, 'Epic Games': 1.1210209361870042e-06, 'Naxat Soft': 1.1210209361870042e-06, 'Ascaron Entertainment': 1.1210209361870042e-06, 'Piacci': 1.1210209361870042e-06, 'Nitroplus': 2.2420418723740084e-06, 'Paradox Development': 1.1210209361870042e-06, 'Otomate': 1.1210209361870042e-06, 'Ongakukan': 1.1210209361870042e-06, 'Commseed': 1.1210209361870042e-06, 'Inti Creates': 1.1210209361870042e-06, 'Takuyo': 1.1210209361870042e-06, 'Interchannel-Holon': 1.1210209361870042e-06, 'Rain Games': 1.1210209361870042e-06, 'UIG Entertainment': 1.1210209361870042e-06}\n"
     ]
    }
   ],
   "source": [
    "editors = df[\"Publisher\"].unique()\n",
    "editors_sales = {}\n",
    "all_sales = df[\"Global_Sales\"].sum()\n",
    "for editor in editors:\n",
    "    editors_sales[editor] = df[df[\"Publisher\"] == editor][\"Global_Sales\"].sum() / all_sales\n",
    "\n",
    "print(editors_sales)\n"
   ]
  },
  {
   "cell_type": "code",
   "execution_count": 76,
   "metadata": {},
   "outputs": [
    {
     "name": "stdout",
     "output_type": "stream",
     "text": [
      "[('Nintendo', 0.20027711637542545), ('Electronic Arts', 0.12446919658671546), ('Activision', 0.08154978902385981), ('Sony Computer Entertainment', 0.06810202187336052), ('Ubisoft', 0.053217105882669466), ('Take-Two Interactive', 0.04478927048441556), ('THQ', 0.038201030442444536), ('Konami Digital Entertainment', 0.031796637834008185), ('Sega', 0.030602750536969023), ('Namco Bandai Games', 0.028484020967575588), ('Microsoft Game Studios', 0.02755357359054038), ('Capcom', 0.022520189587060733), ('Atari', 0.01762469115873208), ('Warner Bros. Interactive Entertainment', 0.017251391186981806), ('Square Enix', 0.016274981951562927), ('Disney Interactive Studios', 0.0134477671504993), ('Eidos Interactive', 0.011095865226378968), ('LucasArts', 0.009790996856657295), ('Bethesda Softworks', 0.009208065969840052), ('Midway Games', 0.007830331239266224), ('Acclaim Entertainment', 0.007190228284703445), ('Vivendi Games', 0.006525462869544551), ('SquareSoft', 0.0064626856971180795), ('505 Games', 0.00626762805422154), ('Tecmo Koei', 0.006003067113281408), ('Codemasters', 0.005366327221527189), ('Virgin Interactive', 0.004917918847052389), ('Unknown', 0.0038854585648241563), ('Enix Corporation', 0.0037823246386949516), ('Deep Silver', 0.002877660743192039), ('GT Interactive', 0.0028283358219998115), ('D3Publisher', 0.0027050235190192408), ('Sony Computer Entertainment Europe', 0.0026781190165507535), ('Hudson Soft', 0.0025794691741662964), ('MTV Games', 0.0023507809031841475), ('Universal Interactive', 0.0019920542036043066), ('Banpresto', 0.0019505764289653874), ('Rising Star Games', 0.0019404872405397045), ('Infogrames', 0.0018317482097295651), ('Majesco Entertainment', 0.0018026016653887034), ('Hasbro Interactive', 0.0017061938648766204), ('Nippon Ichi Software', 0.0016008178968750422), ('989 Studios', 0.0014931998870010893), ('Zoo Digital Publishing', 0.0014427539448726744), ('Atlus', 0.0014281806727022431), ('Level 5', 0.0013642824793395842), ('Empire Interactive', 0.0012656326369551276), ('ASCII Entertainment', 0.0012207917995076473), ('3DO', 0.001134473187421248), ('Crave Entertainment', 0.0011131737896336947), ('RedOctane', 0.0009730461726103196), ('TDK Mediactive', 0.0009315683979714003), ('Mindscape', 0.0008676702046087413), ('Global Star', 0.000857581016183058), ('Focus Home Interactive', 0.0008418867230764402), ('Fox Interactive', 0.0008284344718421959), ('Psygnosis', 0.0008149822206079521), ('Activision Value', 0.0007802305715861548), ('Ignition Entertainment', 0.0007645362784795366), ('Interplay', 0.0007465999435005446), ('SouthPeak Games', 0.0007118482944787475), ('Spike', 0.0006894278757550076), ('Red Orb', 0.0005874149705619902), ('Parker Bros.', 0.000557147405284941), ('Tomy Corporation', 0.000557147405284941), ('BAM! Entertainment', 0.000554905363412567), ('Imagic', 0.0005403320912421361), ('Zoo Games', 0.0005403320912421361), ('Arena Entertainment', 0.000529121881880266), ('Koch Media', 0.000528000860944079), ('City Interactive', 0.0005167906515822089), ('Ubisoft Annecy', 0.0004999753375394038), ('Nordic Games', 0.0004977332956670298), ('Destineer', 0.0004887651281775337), ('Play It', 0.00048316002349659877), ('PQube', 0.00047867593975185074), ('Marvelous Interactive', 0.00046746573038998083), ('Palcom', 0.0004674657303899807), ('ChunSoft', 0.0004562555210281106), ('Idea Factory', 0.00045065041634717573), ('Game Factory', 0.0004248669348148746), ('Kadokawa Shoten', 0.0004226248929425005), ('Gotham Games', 0.00041701978826156553), ('GSP', 0.00041365672545300457), ('Natsume', 0.0004136567254530045), ('Square', 0.00040805162077206953), ('Ocean', 0.00040468855796350857), ('DTP Entertainment', 0.0004024465160911344), ('Sony Online Entertainment', 0.00039572039047401246), ('SCi', 0.00039459936953782545), ('Mattel Interactive', 0.00039347834860163844), ('Oxygen Interactive', 0.0003878732439207034), ('Takara', 0.00038675222298451646), ('Maxis', 0.0003800260973673944), ('Titus', 0.00037217895081408537), ('Black Bean Games', 0.00036881588800552435), ('Valve Software', 0.0003620897623884024), ('GungHo', 0.00035312159489890626), ('Coleco', 0.00034303240647322325), ('Human Entertainment', 0.00033630628085610126), ('Avanquest', 0.00033630628085610126), ('Scholastic Inc.', 0.00032621709243041815), ('Mojang', 0.00032397505055804424), ('Taito', 0.0003183699458771091), ('JVC', 0.0003138858621323612), ('Ghostlight', 0.0003127648411961742), ('Sammy Corporation', 0.00030603871557905214), ('Midas Interactive Entertainment', 0.00030491769464286513), ('Telltale Games', 0.00030491769464286513), ('Takara Tomy', 0.00030267565277049106), ('Imagineer', 0.0002970705480895561), ('Alchemist', 0.000294828506217182), ('SNK', 0.00029034442247243404), ('NCSoft', 0.000290344422472434), ('Rondomedia', 0.0002892234015362471), ('Compile', 0.00027577115030200295), ('Kalypso Media', 0.0002746501293658159), ('Marvelous Entertainment', 0.0002611978781315719), ('Red Storm Entertainment', 0.00026007685719538497), ('UEP Systems', 0.0002522297106420759), ('Enterbrain', 0.0002499876687697019), ('Mastiff', 0.0002499876687697019), ('Kemco', 0.00024886664783351485), ('Video System', 0.0002443825640887669), ('Little Orbit', 0.0002286882709821488), ('ASC Games', 0.00022644622910977485), ('Microprose', 0.00022644622910977485), ('RTL', 0.0002242041872374008), ('Success', 0.0002197201034926528), ('20th Century Fox Video Games', 0.00021747806162027882), ('Nobilis', 0.00021747806162027882), ('Jaleco', 0.00021747806162027882), ('Agetec', 0.0002174780616202788), ('Zushi Games', 0.00021187295693934379), ('Metro 3D', 0.0002062678522584088), ('Rocket Company', 0.00020402581038603477), ('System 3 Arcade Software', 0.00020178376851366078), ('Valve', 0.0001950576428965387), ('Mastertronic', 0.0001939366219603517), ('Crystal Dynamics', 0.00019169458008797772), ('Avanquest Software', 0.00018945253821560373), ('Hudson Entertainment', 0.0001894525382156037), ('Accolade', 0.0001883315172794167), ('Xplosiv', 0.0001838474335346687), ('From Software', 0.00018272641259848172), ('5pb', 0.0001827264125984817), ('Hello Games', 0.00017936334978992067), ('Touchstone', 0.00017712130791754669), ('PopCap Games', 0.00017600028698135965), ('Storm City Games', 0.00017487926604517264), ('LEGO Media', 0.00017487926604517262), ('Westwood Studios', 0.00017375824510898564), ('Laguna', 0.00017375824510898564), ('JoWood Productions', 0.00016703211949186365), ('Arc System Works', 0.00016591109855567662), ('Knowledge Adventure', 0.0001647900776194896), ('Genki', 0.0001636690566833026), ('XS Games', 0.0001636690566833026), ('Rage Software', 0.00015918497293855463), ('Pinnacle', 0.0001591849729385546), ('Tigervision', 0.00015918497293855458), ('Slightly Mad Studios', 0.00015470088919380658), ('GameMill Entertainment', 0.00015470088919380655), ('Compile Heart', 0.00015357986825761957), ('NewKidCo', 0.00014909578451287157), ('FuRyu', 0.00014797476357668456), ('Milestone S.r.l.', 0.00014349067983193654), ('Aqua Plus', 0.00014012761702337554), ('Brash Entertainment', 0.00013788557515100153), ('Russel', 0.00013564353327862752), ('Falcom Corporation', 0.0001356435332786275), ('Playlogic Game Factory', 0.0001345225123424405), ('Black Label Games', 0.00013452251234244048), ('Gathering of Developers', 0.0001334014914062535), ('Sony Computer Entertainment America', 0.0001322804704700665), ('BMG Interactive Entertainment', 0.0001322804704700665), ('Aruze Corp', 0.0001322804704700665), ('Jester Interactive', 0.00012891740766150548), ('Trion Worlds', 0.00012891740766150548), ('Gust', 0.00012331230298057047), ('Gremlin Interactive Ltd', 0.00012331230298057044), ('O-Games', 0.00012107026110819643), ('Mentor Interactive', 0.00011994924017200945), ('Acquire', 0.00011994924017200945), ('Epoch', 0.00011770719829963544), ('Telegames', 0.00011546515642726144), ('Big Ben Interactive', 0.00011210209361870042), ('IE Institute', 0.00010761800987395242), ('Broccoli', 0.00010761800987395242), ('SNK Playmore', 0.00010761800987395239), ('UFO Interactive', 0.00010761800987395239), ('Nippon Columbia', 0.00010649698893776541), ('Sunsoft', 0.00010649698893776541), ('Jorudan', 0.0001064969889377654), ('DreamCatcher Interactive', 0.0001064969889377654), ('Screenlife', 0.00010313392612920438), ('Funbox Media', 0.0001020129051930174), ('CTO SpA', 0.00010089188425683038), ('Xseed Games', 0.00010089188425683038), ('Victor Interactive', 9.977086332064338e-05), ('Destination Software, Inc', 9.864984238445636e-05), ('TalonSoft', 9.752882144826936e-05), ('Quelle', 9.752882144826936e-05), ('mixi, Inc', 9.640780051208236e-05), ('Mud Duck Productions', 9.528677957589536e-05), ('Ackkstudios', 9.416575863970836e-05), ('Conspiracy Entertainment', 9.416575863970836e-05), ('Bigben Interactive', 9.416575863970836e-05), ('NovaLogic', 9.192371676733435e-05), ('Mystique', 9.192371676733434e-05), ('Square EA', 8.968167489496034e-05), ('Harmonix Music Systems', 8.968167489496034e-05), ('NEC Interchannel', 8.743963302258632e-05), ('Men-A-Vision', 8.631861208639933e-05), ('Nihon Falcom Corporation', 8.631861208639933e-05), ('Paradox Interactive', 8.519759115021234e-05), ('Pioneer LDC', 8.295554927783831e-05), ('Gamebridge', 8.18345283416513e-05), ('ArtDink', 8.18345283416513e-05), ('Starfish', 8.07135074054643e-05), ('Home Entertainment Suppliers', 7.959248646927732e-05), ('Quest', 7.959248646927729e-05), ('Data Age', 7.959248646927729e-05), ('Illusion Softworks', 7.847146553309028e-05), ('Wanadoo', 7.286636085215529e-05), ('Media Rings', 7.286636085215528e-05), ('Sting', 7.286636085215528e-05), ('Astragon', 7.174533991596828e-05), ('Elf', 7.174533991596827e-05), ('Seta Corporation', 7.062431897978128e-05), ('Universal Gamex', 7.062431897978126e-05), ('Foreign Media Games', 7.062431897978126e-05), ('TDK Core', 6.950329804359427e-05), ('Wizard Video Games', 6.950329804359426e-05), ('Aspyr', 6.950329804359426e-05), ('Idea Factory International', 6.838227710740726e-05), ('Prototype', 6.838227710740725e-05), ('ESP', 6.614023523503325e-05), ('Nordcurrent', 6.614023523503325e-05), ('Asylum Entertainment', 6.614023523503325e-05), ('Mumbo Jumbo', 6.501921429884626e-05), ('Kadokawa Games', 6.501921429884626e-05), ('CPG Products', 6.053513055409823e-05), ('AQ Interactive', 5.941410961791122e-05), ('BPS', 5.829308868172422e-05), ('The Adventure Company', 5.7172067745537215e-05), ('Answer Software', 5.605104680935021e-05), ('Hect', 5.605104680935021e-05), ('Rebellion', 5.49300258731632e-05), ('Popcorn Arcade', 5.49300258731632e-05), ('Activision Blizzard', 5.3809004936976195e-05), ('Pack In Soft', 5.3809004936976195e-05), ('Avalon Interactive', 5.3809004936976195e-05), ('Swing! Entertainment', 5.3809004936976195e-05), ('Ultravision', 5.2687984000789195e-05), ('Irem Software Engineering', 5.15669630646022e-05), ('Valcon Games', 5.0445942128415195e-05), ('Shogakukan', 4.932492119222819e-05), ('PlayV', 4.932492119222818e-05), ('Aksys Games', 4.932492119222818e-05), ('Angel Studios', 4.9324921192228175e-05), ('Tetris Online', 4.820390025604118e-05), ('NEC', 4.820390025604118e-05), ('Jack of All Games', 4.708287931985418e-05), ('TYO', 4.7082879319854175e-05), ('Electronic Arts Victor', 4.7082879319854175e-05), ('bitComposer Games', 4.5961858383667175e-05), ('Magical Company', 4.596185838366717e-05), ('P2 Games', 4.484083744748017e-05), ('NCS', 4.484083744748017e-05), ('Microids', 4.484083744748017e-05), ('MTO', 4.484083744748016e-05), ('ValuSoft', 4.371981651129316e-05), ('Blast! Entertainment Ltd', 4.259879557510617e-05), ('989 Sports', 4.259879557510616e-05), ('Graffiti', 4.2598795575106154e-05), ('New', 4.035675370273215e-05), ('Performance Designed Products', 4.035675370273215e-05), ('Hip Interactive', 4.035675370273215e-05), ('DSI Games', 3.923573276654515e-05), ('Magix', 3.923573276654514e-05), ('Time Warner Interactive', 3.923573276654514e-05), ('Reef Entertainment', 3.811471183035815e-05), ('ITT Family Games', 3.811471183035814e-05), ('Starpath Corp.', 3.699369089417114e-05), ('U.S. Gold', 3.699369089417114e-05), ('Cave', 3.699369089417114e-05), ('Benesse', 3.699369089417114e-05), ('Indie Games', 3.5872669957984134e-05), ('Yacht Club Games', 3.5872669957984134e-05), ('Evolved Games', 3.5872669957984134e-05), ('Agatsuma Entertainment', 3.4751649021797134e-05), ('Neko Entertainment', 3.4751649021797134e-05), ('CokeM Interactive', 3.475164902179713e-05), ('CBS Electronics', 3.475164902179713e-05), ('Hackberry', 3.475164902179713e-05), ('Hamster Corporation', 3.363062808561013e-05), ('Mad Catz', 3.363062808561013e-05), ('Rebellion Developments', 3.363062808561013e-05), ('Game Life', 3.363062808561013e-05), ('Core Design Ltd.', 3.250960714942313e-05), ('Media Factory', 3.250960714942313e-05), ('Data Design Interactive', 3.250960714942313e-05), ('Wargaming.net', 3.250960714942312e-05), ('Playmates', 3.138858621323612e-05), ('Nichibutsu', 3.138858621323612e-05), ('Daedalic', 3.138858621323612e-05), ('Excalibur Publishing', 3.138858621323612e-05), ('Tru Blu Entertainment', 3.138858621323612e-05), ('Liquid Games', 3.0267565277049114e-05), ('Culture Brain', 3.0267565277049114e-05), ('Syscom', 3.0267565277049114e-05), ('Vic Tokai', 3.0267565277049114e-05), ('Telstar', 3.0267565277049114e-05), ('ASCII Media Works', 3.0267565277049114e-05), ('CyberFront', 3.0267565277049114e-05), ('Pacific Century Cyber Works', 2.914654434086211e-05), ('Nippon Telenet', 2.914654434086211e-05), ('Vir2L Studios', 2.914654434086211e-05), ('Axela', 2.8025523404675104e-05), ('Paon', 2.8025523404675104e-05), ('Asgard', 2.8025523404675104e-05), ('Yeti', 2.69045024684881e-05), ('Xing Entertainment', 2.6904502468488097e-05), ('Detn8 Games', 2.5783481532301097e-05), ('American Softworks', 2.5783481532301097e-05), ('Essential Games', 2.5783481532301097e-05), ('Asmik Ace Entertainment', 2.5783481532301097e-05), ('Daito', 2.5783481532301094e-05), ('Quinrose', 2.4662460596114097e-05), ('System 3', 2.4662460596114094e-05), ('Bomb', 2.466246059611409e-05), ('CCP', 2.466246059611409e-05), ('Vatical Entertainment', 2.466246059611409e-05), ('O3 Entertainment', 2.466246059611409e-05), ('Sears', 2.3541439659927087e-05), ('On Demand', 2.3541439659927087e-05), ('Slitherine Software', 2.3541439659927087e-05), ('Mercury Games', 2.3541439659927087e-05), ('Tommo', 2.3541439659927087e-05), ('Merscom LLC', 2.2420418723740084e-05), ('Funcom', 2.2420418723740084e-05), ('Funsta', 2.2420418723740084e-05), ('CDV Software Entertainment', 2.2420418723740084e-05), ('Alternative Software', 2.2420418723740084e-05), ('Micro Cabin', 2.242041872374008e-05), ('Gamecock', 2.242041872374008e-05), ('SSI', 2.129939778755308e-05), ('Phenomedia', 2.129939778755308e-05), ('Happinet', 2.0178376851366077e-05), ('DHM Interactive', 2.0178376851366074e-05), ('Media Works', 2.0178376851366074e-05), ('Adeline Software', 1.905735591517907e-05), ('Panther Software', 1.905735591517907e-05), ('Xicat Interactive', 1.905735591517907e-05), ('Asmik Corp', 1.905735591517907e-05), ('Sunrise Interactive', 1.905735591517907e-05), ('Tivola', 1.905735591517907e-05), ('Aques', 1.7936334978992067e-05), ('White Park Bay Software', 1.7936334978992067e-05), ('Gainax Network Systems', 1.7936334978992067e-05), ('Global A Entertainment', 1.6815314042805064e-05), ('Comfort', 1.6815314042805064e-05), ('EA Games', 1.681531404280506e-05), ('Data East', 1.681531404280506e-05), ('Game Arts', 1.569429310661806e-05), ('General Entertainment', 1.569429310661806e-05), ('Imadio', 1.569429310661806e-05), ('Sony Music Entertainment', 1.569429310661806e-05), ('Tripwire Interactive', 1.569429310661806e-05), ('HMH Interactive', 1.569429310661806e-05), ('Daedalic Entertainment', 1.569429310661806e-05), ('Kaga Create', 1.569429310661806e-05), ('SCS Software', 1.4573272170431055e-05), ('Havas Interactive', 1.4573272170431055e-05), ('DreamWorks Interactive', 1.4573272170431055e-05), ('Moss', 1.4573272170431055e-05), ('responDESIGN', 1.4573272170431055e-05), ('Myelin Media', 1.4573272170431055e-05), ('Insomniac Games', 1.345225123424405e-05), ('FunSoft', 1.3452251234244049e-05), ('SPS', 1.3452251234244049e-05), ('Bohemia Interactive', 1.3452251234244049e-05), ('T&E Soft', 1.3452251234244049e-05), ('NDA Productions', 1.3452251234244049e-05), ('Flight-Plan', 1.3452251234244049e-05), ('LSP Games', 1.3452251234244049e-05), ('TopWare Interactive', 1.3452251234244049e-05), ('Gameloft', 1.2331230298057045e-05), ('Simon & Schuster Interactive', 1.2331230298057045e-05), ('PopTop Software', 1.2331230298057045e-05), ('TOHO', 1.2331230298057045e-05), ('10TACLE Studios', 1.2331230298057045e-05), ('Pack-In-Video', 1.2331230298057045e-05), ('Ascaron Entertainment GmbH', 1.2331230298057045e-05), ('Tradewest', 1.2331230298057045e-05), ('dramatic create', 1.2331230298057045e-05), ('PM Studios', 1.1210209361870042e-05), ('GameTek', 1.1210209361870042e-05), ('Type-Moon', 1.1210209361870042e-05), ('Enjoy Gaming ltd.', 1.1210209361870042e-05), ('Interplay Productions', 1.1210209361870042e-05), ('inXile Entertainment', 1.1210209361870042e-05), ('Image Epoch', 1.1210209361870042e-05), ('Interchannel', 1.1210209361870042e-05), ('Creative Core', 1.121020936187004e-05), ('1C Company', 1.121020936187004e-05), ('TGL', 1.121020936187004e-05), ('Edia', 1.0089188425683039e-05), ('Athena', 1.0089188425683039e-05), ('Arika', 1.0089188425683039e-05), ('Phantom EFX', 1.0089188425683037e-05), ('Culture Publishers', 1.0089188425683037e-05), ('Griffin International', 1.0089188425683037e-05), ('Hearty Robin', 1.0089188425683037e-05), ('Nippon Amuse', 1.0089188425683037e-05), ('Origin Systems', 1.0089188425683037e-05), ('Groove Games', 1.0089188425683037e-05), ('Seventh Chord', 8.968167489496034e-06), ('Mitsui', 8.968167489496034e-06), ('Milestone', 8.968167489496034e-06), ('Abylight', 8.968167489496034e-06), ('Glams', 8.968167489496034e-06), ('Crimson Cow', 8.968167489496034e-06), ('Flashpoint Games', 8.968167489496034e-06), ('Cloud Imperium Games Corporation', 8.968167489496034e-06), ('Iceberg Interactive', 8.968167489496034e-06), ('MC2 Entertainment', 8.968167489496034e-06), ('KID', 8.968167489496034e-06), ('7G//AMES', 8.968167489496034e-06), (\"Yuke's\", 8.968167489496034e-06), ('Locus', 7.84714655330903e-06), ('Warp', 7.84714655330903e-06), ('Elite', 7.84714655330903e-06), ('Evolution Games', 7.84714655330903e-06), ('Aria', 7.84714655330903e-06), ('Altron', 7.84714655330903e-06), ('Coconuts Japan', 7.84714655330903e-06), ('Misawa', 7.84714655330903e-06), ('Princess Soft', 7.84714655330903e-06), ('Encore', 7.84714655330903e-06), ('Licensed 4U', 7.84714655330903e-06), ('Revolution Software', 7.847146553309029e-06), ('Experience Inc.', 6.726125617122025e-06), ('iWin', 6.726125617122024e-06), ('Fortyfive', 6.726125617122024e-06), ('Imax', 6.726125617122024e-06), ('Ecole', 6.726125617122024e-06), ('Yumedia', 6.726125617122024e-06), ('HAL Laboratory', 6.726125617122024e-06), ('Grand Prix Games', 6.726125617122024e-06), ('DigiCube', 6.726125617122024e-06), ('Virtual Play Games', 6.726125617122024e-06), ('Sonnet', 6.726125617122024e-06), ('Zenrin', 6.726125617122024e-06), ('Office Create', 6.726125617122024e-06), ('WayForward Technologies', 5.605104680935021e-06), ('Ertain', 5.605104680935021e-06), ('Marvel Entertainment', 5.605104680935021e-06), ('Phantagram', 5.605104680935021e-06), ('The Learning Company', 5.605104680935021e-06), ('TechnoSoft', 5.605104680935021e-06), ('Vap', 5.605104680935021e-06), ('Team17 Software', 5.605104680935021e-06), ('Pow', 5.605104680935021e-06), ('Navarre Corp', 5.605104680935021e-06), ('MediaQuest', 5.605104680935021e-06), ('Max Five', 5.605104680935021e-06), ('Monte Christo Multimedia', 5.605104680935021e-06), ('Pony Canyon', 5.605104680935021e-06), ('Milestone S.r.l', 5.605104680935021e-06), ('Alawar Entertainment', 5.605104680935021e-06), ('Mamba Games', 5.605104680935021e-06), ('Dusenberry Martin Racing', 5.605104680935021e-06), ('Big Fish Games', 5.605104680935021e-06), ('Sweets', 5.605104680935021e-06), ('GN Software', 5.605104680935021e-06), ('Easy Interactive', 5.605104680935021e-06), ('Lexicon Entertainment', 5.605104680935021e-06), ('Minato Station', 5.605104680935021e-06), ('Focus Multimedia', 5.605104680935021e-06), ('System Soft', 5.605104680935021e-06), ('Riverhillsoft', 4.484083744748017e-06), ('Summitsoft', 4.484083744748017e-06), ('Playmore', 4.484083744748017e-06), ('MLB.com', 4.484083744748017e-06), ('Kool Kizz', 4.484083744748017e-06), ('49Games', 4.484083744748017e-06), ('Legacy Interactive', 4.484083744748017e-06), ('Societa', 4.484083744748017e-06), ('Ivolgamus', 4.484083744748017e-06), ('2D Boy', 4.484083744748017e-06), ('imageepoch Inc.', 4.484083744748017e-06), ('G.Rev', 4.484083744748017e-06), ('Devolver Digital', 4.484083744748017e-06), ('Yamasa Entertainment', 4.484083744748017e-06), ('Gakken', 4.484083744748017e-06), ('Alvion', 4.484083744748017e-06), ('Kando Games', 3.363062808561012e-06), ('Just Flight', 3.363062808561012e-06), ('Fields', 3.363062808561012e-06), ('Maximum Family Games', 3.363062808561012e-06), ('Berkeley', 3.363062808561012e-06), ('Fuji', 3.363062808561012e-06), ('Her Interactive', 3.363062808561012e-06), ('Kamui', 3.363062808561012e-06), ('ASK', 3.363062808561012e-06), ('Headup Games', 3.363062808561012e-06), ('KSS', 3.363062808561012e-06), ('Cygames', 3.363062808561012e-06), ('Sunflowers', 3.363062808561012e-06), ('Extreme Entertainment Group', 3.363062808561012e-06), ('Intergrow', 3.363062808561012e-06), ('Kokopeli Digital Studios', 3.363062808561012e-06), ('Number None', 3.363062808561012e-06), ('Nexon', 3.363062808561012e-06), ('id Software', 3.363062808561012e-06), ('BushiRoad', 3.363062808561012e-06), ('Tryfirst', 3.363062808561012e-06), ('Strategy First', 3.363062808561012e-06), ('FuRyu Corporation', 3.363062808561012e-06), ('Paon Corporation', 3.363062808561012e-06), ('Kids Station', 3.363062808561012e-06), ('Blue Byte', 3.363062808561012e-06), ('Views', 3.363062808561012e-06), ('NetRevo', 3.363062808561012e-06), ('Dorart', 3.363062808561012e-06), ('Aerosoft', 3.363062808561012e-06), ('Datam Polystar', 3.363062808561012e-06), ('HuneX', 3.363062808561012e-06), ('GOA', 2.2420418723740084e-06), ('Graphsim Entertainment', 2.2420418723740084e-06), ('King Records', 2.2420418723740084e-06), ('Introversion Software', 2.2420418723740084e-06), ('Gaga', 2.2420418723740084e-06), ('Plenty', 2.2420418723740084e-06), ('fonfun', 2.2420418723740084e-06), ('Codemasters Online', 2.2420418723740084e-06), ('Quintet', 2.2420418723740084e-06), ('Phoenix Games', 2.2420418723740084e-06), ('Marvelous Games', 2.2420418723740084e-06), ('Imageworks', 2.2420418723740084e-06), ('Karin Entertainment', 2.2420418723740084e-06), ('Technos Japan Corporation', 2.2420418723740084e-06), ('Mirai Shounen', 2.2420418723740084e-06), ('Saurus', 2.2420418723740084e-06), ('Revolution (Japan)', 2.2420418723740084e-06), ('Giza10', 2.2420418723740084e-06), ('Visco', 2.2420418723740084e-06), ('Mycom', 2.2420418723740084e-06), ('Giga', 2.2420418723740084e-06), ('Warashi', 2.2420418723740084e-06), ('Sold Out', 2.2420418723740084e-06), ('Lighthouse Interactive', 2.2420418723740084e-06), ('Masque Publishing', 2.2420418723740084e-06), ('RED Entertainment', 2.2420418723740084e-06), ('Nitroplus', 2.2420418723740084e-06), ('Michaelsoft', 1.1210209361870042e-06), ('Media Entertainment', 1.1210209361870042e-06), ('New World Computing', 1.1210209361870042e-06), ('Genterprise', 1.1210209361870042e-06), ('Interworks Unlimited, Inc.', 1.1210209361870042e-06), ('Boost On', 1.1210209361870042e-06), ('Stainless Games', 1.1210209361870042e-06), ('EON Digital Entertainment', 1.1210209361870042e-06), ('Epic Games', 1.1210209361870042e-06), ('Naxat Soft', 1.1210209361870042e-06), ('Ascaron Entertainment', 1.1210209361870042e-06), ('Piacci', 1.1210209361870042e-06), ('Paradox Development', 1.1210209361870042e-06), ('Otomate', 1.1210209361870042e-06), ('Ongakukan', 1.1210209361870042e-06), ('Commseed', 1.1210209361870042e-06), ('Inti Creates', 1.1210209361870042e-06), ('Takuyo', 1.1210209361870042e-06), ('Interchannel-Holon', 1.1210209361870042e-06), ('Rain Games', 1.1210209361870042e-06), ('UIG Entertainment', 1.1210209361870042e-06), (nan, 0.0)]\n"
     ]
    }
   ],
   "source": [
    "editors_sorted = sorted(editors_sales.items(), key=lambda x:x[1], reverse=True)\n",
    "print(editors_sorted)"
   ]
  }
 ],
 "metadata": {
  "kernelspec": {
   "display_name": "tf",
   "language": "python",
   "name": "python3"
  },
  "language_info": {
   "codemirror_mode": {
    "name": "ipython",
    "version": 3
   },
   "file_extension": ".py",
   "mimetype": "text/x-python",
   "name": "python",
   "nbconvert_exporter": "python",
   "pygments_lexer": "ipython3",
   "version": "3.11.5"
  }
 },
 "nbformat": 4,
 "nbformat_minor": 2
}
