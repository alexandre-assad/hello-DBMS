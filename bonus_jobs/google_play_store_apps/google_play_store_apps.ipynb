{
 "cells": [
  {
   "cell_type": "code",
   "execution_count": 167,
   "metadata": {},
   "outputs": [],
   "source": [
    "import pandas as pd\n",
    "from os import path\n",
    "import matplotlib.pyplot as plt"
   ]
  },
  {
   "cell_type": "code",
   "execution_count": 55,
   "metadata": {},
   "outputs": [
    {
     "data": {
      "text/html": [
       "<div>\n",
       "<style scoped>\n",
       "    .dataframe tbody tr th:only-of-type {\n",
       "        vertical-align: middle;\n",
       "    }\n",
       "\n",
       "    .dataframe tbody tr th {\n",
       "        vertical-align: top;\n",
       "    }\n",
       "\n",
       "    .dataframe thead th {\n",
       "        text-align: right;\n",
       "    }\n",
       "</style>\n",
       "<table border=\"1\" class=\"dataframe\">\n",
       "  <thead>\n",
       "    <tr style=\"text-align: right;\">\n",
       "      <th></th>\n",
       "      <th>Rank</th>\n",
       "      <th>Name</th>\n",
       "      <th>Platform</th>\n",
       "      <th>Year</th>\n",
       "      <th>Genre</th>\n",
       "      <th>Publisher</th>\n",
       "      <th>NA_Sales</th>\n",
       "      <th>EU_Sales</th>\n",
       "      <th>JP_Sales</th>\n",
       "      <th>Other_Sales</th>\n",
       "      <th>Global_Sales</th>\n",
       "    </tr>\n",
       "  </thead>\n",
       "  <tbody>\n",
       "    <tr>\n",
       "      <th>0</th>\n",
       "      <td>1</td>\n",
       "      <td>Wii Sports</td>\n",
       "      <td>Wii</td>\n",
       "      <td>2006.0</td>\n",
       "      <td>Sports</td>\n",
       "      <td>Nintendo</td>\n",
       "      <td>41.49</td>\n",
       "      <td>29.02</td>\n",
       "      <td>3.77</td>\n",
       "      <td>8.46</td>\n",
       "      <td>82.74</td>\n",
       "    </tr>\n",
       "    <tr>\n",
       "      <th>1</th>\n",
       "      <td>2</td>\n",
       "      <td>Super Mario Bros.</td>\n",
       "      <td>NES</td>\n",
       "      <td>1985.0</td>\n",
       "      <td>Platform</td>\n",
       "      <td>Nintendo</td>\n",
       "      <td>29.08</td>\n",
       "      <td>3.58</td>\n",
       "      <td>6.81</td>\n",
       "      <td>0.77</td>\n",
       "      <td>40.24</td>\n",
       "    </tr>\n",
       "    <tr>\n",
       "      <th>2</th>\n",
       "      <td>3</td>\n",
       "      <td>Mario Kart Wii</td>\n",
       "      <td>Wii</td>\n",
       "      <td>2008.0</td>\n",
       "      <td>Racing</td>\n",
       "      <td>Nintendo</td>\n",
       "      <td>15.85</td>\n",
       "      <td>12.88</td>\n",
       "      <td>3.79</td>\n",
       "      <td>3.31</td>\n",
       "      <td>35.82</td>\n",
       "    </tr>\n",
       "    <tr>\n",
       "      <th>3</th>\n",
       "      <td>4</td>\n",
       "      <td>Wii Sports Resort</td>\n",
       "      <td>Wii</td>\n",
       "      <td>2009.0</td>\n",
       "      <td>Sports</td>\n",
       "      <td>Nintendo</td>\n",
       "      <td>15.75</td>\n",
       "      <td>11.01</td>\n",
       "      <td>3.28</td>\n",
       "      <td>2.96</td>\n",
       "      <td>33.00</td>\n",
       "    </tr>\n",
       "    <tr>\n",
       "      <th>4</th>\n",
       "      <td>5</td>\n",
       "      <td>Pokemon Red/Pokemon Blue</td>\n",
       "      <td>GB</td>\n",
       "      <td>1996.0</td>\n",
       "      <td>Role-Playing</td>\n",
       "      <td>Nintendo</td>\n",
       "      <td>11.27</td>\n",
       "      <td>8.89</td>\n",
       "      <td>10.22</td>\n",
       "      <td>1.00</td>\n",
       "      <td>31.37</td>\n",
       "    </tr>\n",
       "  </tbody>\n",
       "</table>\n",
       "</div>"
      ],
      "text/plain": [
       "   Rank                      Name Platform    Year         Genre Publisher  \\\n",
       "0     1                Wii Sports      Wii  2006.0        Sports  Nintendo   \n",
       "1     2         Super Mario Bros.      NES  1985.0      Platform  Nintendo   \n",
       "2     3            Mario Kart Wii      Wii  2008.0        Racing  Nintendo   \n",
       "3     4         Wii Sports Resort      Wii  2009.0        Sports  Nintendo   \n",
       "4     5  Pokemon Red/Pokemon Blue       GB  1996.0  Role-Playing  Nintendo   \n",
       "\n",
       "   NA_Sales  EU_Sales  JP_Sales  Other_Sales  Global_Sales  \n",
       "0     41.49     29.02      3.77         8.46         82.74  \n",
       "1     29.08      3.58      6.81         0.77         40.24  \n",
       "2     15.85     12.88      3.79         3.31         35.82  \n",
       "3     15.75     11.01      3.28         2.96         33.00  \n",
       "4     11.27      8.89     10.22         1.00         31.37  "
      ]
     },
     "execution_count": 55,
     "metadata": {},
     "output_type": "execute_result"
    }
   ],
   "source": [
    "df = pd.read_csv(\"vgsales.csv\")\n",
    "df.head(5)"
   ]
  },
  {
   "cell_type": "code",
   "execution_count": 56,
   "metadata": {},
   "outputs": [
    {
     "name": "stdout",
     "output_type": "stream",
     "text": [
      "<class 'pandas.core.frame.DataFrame'>\n",
      "RangeIndex: 16598 entries, 0 to 16597\n",
      "Data columns (total 11 columns):\n",
      " #   Column        Non-Null Count  Dtype  \n",
      "---  ------        --------------  -----  \n",
      " 0   Rank          16598 non-null  int64  \n",
      " 1   Name          16598 non-null  object \n",
      " 2   Platform      16598 non-null  object \n",
      " 3   Year          16327 non-null  float64\n",
      " 4   Genre         16598 non-null  object \n",
      " 5   Publisher     16540 non-null  object \n",
      " 6   NA_Sales      16598 non-null  float64\n",
      " 7   EU_Sales      16598 non-null  float64\n",
      " 8   JP_Sales      16598 non-null  float64\n",
      " 9   Other_Sales   16598 non-null  float64\n",
      " 10  Global_Sales  16598 non-null  float64\n",
      "dtypes: float64(6), int64(1), object(4)\n",
      "memory usage: 1.4+ MB\n"
     ]
    }
   ],
   "source": [
    "df.info()"
   ]
  },
  {
   "cell_type": "code",
   "execution_count": 57,
   "metadata": {},
   "outputs": [
    {
     "name": "stdout",
     "output_type": "stream",
     "text": [
      "La colonne Rank a pour valeur minimal 1 et maximal 16600\n",
      "La colonne Year a pour valeur minimal 1980.0 et maximal 2020.0\n",
      "La colonne NA_Sales a pour valeur minimal 0.0 et maximal 41.49\n",
      "La colonne EU_Sales a pour valeur minimal 0.0 et maximal 29.02\n",
      "La colonne JP_Sales a pour valeur minimal 0.0 et maximal 10.22\n",
      "La colonne Other_Sales a pour valeur minimal 0.0 et maximal 10.57\n",
      "La colonne Global_Sales a pour valeur minimal 0.01 et maximal 82.74\n"
     ]
    }
   ],
   "source": [
    "for col in df.columns:\n",
    "    if df[col].dtype != \"object\":\n",
    "        print(f\"La colonne {col} a pour valeur minimal {df[col].min()} et maximal {df[col].max()}\")"
   ]
  },
  {
   "cell_type": "code",
   "execution_count": 63,
   "metadata": {},
   "outputs": [
    {
     "name": "stdout",
     "output_type": "stream",
     "text": [
      " En Amérique, les ventes ont un totale de 4392.950000000001\n",
      " En Europe, les ventes ont un totale de 2434.1299999999997\n",
      " Au Japon, les ventes ont un totale de 1291.0200000000002\n",
      " Ailleurs, les ventes ont un totale de 797.7500000000001\n",
      " Avec un totale de ventes de 8920.44\n"
     ]
    }
   ],
   "source": [
    "print(\" En Amérique, les ventes ont un totale de\", df[\"NA_Sales\"].sum())\n",
    "print(\" En Europe, les ventes ont un totale de\", df[\"EU_Sales\"].sum())\n",
    "print(\" Au Japon, les ventes ont un totale de\", df[\"JP_Sales\"].sum())\n",
    "print(\" Ailleurs, les ventes ont un totale de\", df[\"Other_Sales\"].sum())\n",
    "print(\" Avec un totale de ventes de\", df[\"Global_Sales\"].sum())"
   ]
  },
  {
   "cell_type": "code",
   "execution_count": 68,
   "metadata": {},
   "outputs": [
    {
     "name": "stdout",
     "output_type": "stream",
     "text": [
      "L'Amérique représentent 49.245889216227006 % des ventes\n",
      "L'Europe représentent 27.28710691400872 % des ventes\n",
      "Le Japon représentent 14.472604490361462 % des ventes\n",
      "Ailleurs représentent 8.942944518431828 % des ventes\n"
     ]
    }
   ],
   "source": [
    "global_sales = df[\"Global_Sales\"].sum()\n",
    "print(\"L'Amérique représentent\", df[\"NA_Sales\"].sum() * 100 / global_sales,\"% des ventes\")\n",
    "print(\"L'Europe représentent\", df[\"EU_Sales\"].sum() * 100 / global_sales,\"% des ventes\")\n",
    "print(\"Le Japon représentent\", df[\"JP_Sales\"].sum() * 100 / global_sales,\"% des ventes\")\n",
    "print(\"Ailleurs représentent\", df[\"Other_Sales\"].sum() * 100 / global_sales,\"% des ventes\")"
   ]
  },
  {
   "cell_type": "code",
   "execution_count": 93,
   "metadata": {},
   "outputs": [
    {
     "name": "stdout",
     "output_type": "stream",
     "text": [
      "        Rank  Name  Platform  Genre  Publisher  NA_Sales  EU_Sales  JP_Sales  \\\n",
      "Year                                                                           \n",
      "1980.0     9     9         9      9          9         9         9         9   \n",
      "1981.0    46    46        46     46         46        46        46        46   \n",
      "1982.0    36    36        36     36         36        36        36        36   \n",
      "1983.0    17    17        17     17         17        17        17        17   \n",
      "1984.0    14    14        14     14         14        14        14        14   \n",
      "1985.0    14    14        14     14         14        14        14        14   \n",
      "1986.0    21    21        21     21         21        21        21        21   \n",
      "1987.0    16    16        16     16         16        16        16        16   \n",
      "1988.0    15    15        15     15         15        15        15        15   \n",
      "1989.0    17    17        17     17         17        17        17        17   \n",
      "1990.0    16    16        16     16         16        16        16        16   \n",
      "1991.0    41    41        41     41         41        41        41        41   \n",
      "1992.0    43    43        43     43         43        43        43        43   \n",
      "1993.0    60    60        60     60         60        60        60        60   \n",
      "1994.0   121   121       121    121        121       121       121       121   \n",
      "1995.0   219   219       219    219        219       219       219       219   \n",
      "1996.0   263   263       263    263        263       263       263       263   \n",
      "1997.0   289   289       289    289        289       289       289       289   \n",
      "1998.0   379   379       379    379        379       379       379       379   \n",
      "1999.0   338   338       338    338        338       338       338       338   \n",
      "2000.0   349   349       349    349        349       349       349       349   \n",
      "2001.0   482   482       482    482        482       482       482       482   \n",
      "2002.0   829   829       829    829        829       829       829       829   \n",
      "2003.0   775   775       775    775        775       775       775       775   \n",
      "2004.0   763   763       763    763        744       763       763       763   \n",
      "2005.0   941   941       941    941        936       941       941       941   \n",
      "2006.0  1008  1008      1008   1008       1008      1008      1008      1008   \n",
      "2007.0  1202  1202      1202   1202       1201      1202      1202      1202   \n",
      "2008.0  1428  1428      1428   1428       1428      1428      1428      1428   \n",
      "2009.0  1431  1431      1431   1431       1431      1431      1431      1431   \n",
      "2010.0  1259  1259      1259   1259       1257      1259      1259      1259   \n",
      "2011.0  1139  1139      1139   1139       1136      1139      1139      1139   \n",
      "2012.0   657   657       657    657        655       657       657       657   \n",
      "2013.0   546   546       546    546        546       546       546       546   \n",
      "2014.0   582   582       582    582        580       582       582       582   \n",
      "2015.0   614   614       614    614        614       614       614       614   \n",
      "2016.0   344   344       344    344        342       344       344       344   \n",
      "2017.0     3     3         3      3          3         3         3         3   \n",
      "2020.0     1     1         1      1          1         1         1         1   \n",
      "\n",
      "        Other_Sales  Global_Sales  \n",
      "Year                               \n",
      "1980.0            9             9  \n",
      "1981.0           46            46  \n",
      "1982.0           36            36  \n",
      "1983.0           17            17  \n",
      "1984.0           14            14  \n",
      "1985.0           14            14  \n",
      "1986.0           21            21  \n",
      "1987.0           16            16  \n",
      "1988.0           15            15  \n",
      "1989.0           17            17  \n",
      "1990.0           16            16  \n",
      "1991.0           41            41  \n",
      "1992.0           43            43  \n",
      "1993.0           60            60  \n",
      "1994.0          121           121  \n",
      "1995.0          219           219  \n",
      "1996.0          263           263  \n",
      "1997.0          289           289  \n",
      "1998.0          379           379  \n",
      "1999.0          338           338  \n",
      "2000.0          349           349  \n",
      "2001.0          482           482  \n",
      "2002.0          829           829  \n",
      "2003.0          775           775  \n",
      "2004.0          763           763  \n",
      "2005.0          941           941  \n",
      "2006.0         1008          1008  \n",
      "2007.0         1202          1202  \n",
      "2008.0         1428          1428  \n",
      "2009.0         1431          1431  \n",
      "2010.0         1259          1259  \n",
      "2011.0         1139          1139  \n",
      "2012.0          657           657  \n",
      "2013.0          546           546  \n",
      "2014.0          582           582  \n",
      "2015.0          614           614  \n",
      "2016.0          344           344  \n",
      "2017.0            3             3  \n",
      "2020.0            1             1  \n"
     ]
    }
   ],
   "source": [
    "print(df.groupby(['Year']).count())\n",
    "    "
   ]
  },
  {
   "cell_type": "code",
   "execution_count": 91,
   "metadata": {},
   "outputs": [
    {
     "name": "stdout",
     "output_type": "stream",
     "text": [
      "['Wii Sports'] ['Wii'] [82.74]\n"
     ]
    }
   ],
   "source": [
    "print(df[\"Name\"][df[\"Global_Sales\"]==df[\"Global_Sales\"].max()].values,df[\"Platform\"][df[\"Global_Sales\"]==df[\"Global_Sales\"].max()].values,df[\"Global_Sales\"][df[\"Global_Sales\"]==df[\"Global_Sales\"].max()].values)"
   ]
  },
  {
   "cell_type": "code",
   "execution_count": 153,
   "metadata": {},
   "outputs": [
    {
     "name": "stdout",
     "output_type": "stream",
     "text": [
      "('PS2',) 1255.6399999999999\n"
     ]
    }
   ],
   "source": [
    "for platform in df.groupby(['Platform']):\n",
    "    max_sales = df.groupby(['Platform']).sum()[\"Global_Sales\"].max()\n",
    "    platform_sale = platform[1][\"Global_Sales\"].sum()\n",
    "    if  round(platform_sale, 2) == round(max_sales, 2):\n",
    "        print(platform[0], platform_sale)"
   ]
  },
  {
   "cell_type": "code",
   "execution_count": 166,
   "metadata": {},
   "outputs": [
    {
     "name": "stdout",
     "output_type": "stream",
     "text": [
      "('Platform',) 0.9383408577878104\n"
     ]
    }
   ],
   "source": [
    "for genre in df.groupby(['Genre']):\n",
    "    max_sales = df.groupby(['Genre'])[\"Global_Sales\"].mean().max()\n",
    "    genre_sale = genre[1][\"Global_Sales\"].mean()\n",
    "    if round(genre_sale, 2) == round(max_sales, 2):\n",
    "        print(genre[0], genre_sale)"
   ]
  },
  {
   "cell_type": "code",
   "execution_count": null,
   "metadata": {},
   "outputs": [],
   "source": [
    "plt."
   ]
  }
 ],
 "metadata": {
  "kernelspec": {
   "display_name": "tf",
   "language": "python",
   "name": "python3"
  },
  "language_info": {
   "codemirror_mode": {
    "name": "ipython",
    "version": 3
   },
   "file_extension": ".py",
   "mimetype": "text/x-python",
   "name": "python",
   "nbconvert_exporter": "python",
   "pygments_lexer": "ipython3",
   "version": "3.11.5"
  }
 },
 "nbformat": 4,
 "nbformat_minor": 2
}
